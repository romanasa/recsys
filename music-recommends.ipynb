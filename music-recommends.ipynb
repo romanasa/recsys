{
 "cells": [
  {
   "cell_type": "code",
   "execution_count": null,
   "metadata": {},
   "outputs": [],
   "source": [
    "!pip install pyunpack\n",
    "!pip install patool"
   ]
  },
  {
   "cell_type": "code",
   "execution_count": null,
   "metadata": {},
   "outputs": [],
   "source": [
    "import pyunpack\n",
    "import os\n",
    "os.system('apt-get install p7zip')"
   ]
  },
  {
   "cell_type": "code",
   "execution_count": null,
   "metadata": {},
   "outputs": [],
   "source": [
    "for name in [\n",
    "    'train',\n",
    "    'songs',\n",
    "    'members',\n",
    "    'song_extra_info',\n",
    "]:\n",
    "    pyunpack.Archive(f\"../input/{name}.csv.7z\").extractall(f\"../working/\")"
   ]
  },
  {
   "cell_type": "code",
   "execution_count": null,
   "metadata": {
    "_cell_guid": "b22db43f-4a44-4fa9-8873-06993a4cbdb1",
    "_uuid": "21b6ddedcf2e2b39141f2264dc11b9cefb9b21c2"
   },
   "outputs": [],
   "source": [
    "# Load Python libraries\n",
    "from sklearn import metrics, ensemble\n",
    "from sklearn.model_selection import cross_validate, GridSearchCV, train_test_split\n",
    "import xgboost as xgb\n",
    "import numpy as np\n",
    "import pandas as pd\n",
    "import seaborn as sns\n",
    "from matplotlib import pyplot as plt\n",
    "import warnings"
   ]
  },
  {
   "cell_type": "code",
   "execution_count": null,
   "metadata": {
    "_cell_guid": "6fcae3bd-73a4-4d73-8713-5b7b377e82a7",
    "_uuid": "fa1fe2ca80f4387005ac9afa987af77f40381ce3"
   },
   "outputs": [],
   "source": [
    "train = pd.read_csv('../working/train.csv')\n",
    "songs = pd.read_csv('../working/songs.csv')\n",
    "songs_extra = pd.read_csv('../working/song_extra_info.csv')\n",
    "members = pd.read_csv('../working/members.csv', parse_dates=['registration_init_time','expiration_date'])"
   ]
  },
  {
   "cell_type": "markdown",
   "metadata": {},
   "source": [
    "Добавим для пользователя количество дней, которое он зарегистрирован. Разделим на несколько категорий"
   ]
  },
  {
   "cell_type": "code",
   "execution_count": null,
   "metadata": {},
   "outputs": [],
   "source": [
    "song_cols = ['song_id', 'artist_name', 'genre_ids', 'song_length', 'language']\n",
    "train = train.merge(songs[song_cols], on='song_id', how='left')\n",
    "\n",
    "members['registration_year'] = members['registration_init_time'].apply(lambda x: int(str(x)[0:4]))\n",
    "members['expiration_year'] = members['expiration_date'].apply(lambda x: int(str(x)[0:4]))\n",
    "members['membership_days'] = (members['expiration_date'] - members['registration_init_time']).dt.days.astype(int)\n",
    "members['membership_days'] = members['membership_days'] // 200\n",
    "members['membership_days'] = members['membership_days'].astype('category')\n",
    "\n",
    "member_cols = ['msno','city','registered_via', 'registration_year', 'expiration_year', 'membership_days']\n",
    "train = train.merge(members[member_cols], on='msno', how='left')"
   ]
  },
  {
   "cell_type": "markdown",
   "metadata": {},
   "source": [
    "Часто направление музыки называют по годам: 90-е, 2010-е и т.д. Сделаем так же"
   ]
  },
  {
   "cell_type": "code",
   "execution_count": null,
   "metadata": {},
   "outputs": [],
   "source": [
    "def isrc_to_year(isrc):\n",
    "    if type(isrc) == str:\n",
    "        return int(isrc[5:7]) // 5\n",
    "    else:\n",
    "        return np.nan\n",
    "\n",
    "songs_extra['song_year'] = songs_extra['isrc'].apply(isrc_to_year)\n",
    "songs_extra = songs_extra.drop(['isrc', 'name'], axis = 1)"
   ]
  },
  {
   "cell_type": "code",
   "execution_count": null,
   "metadata": {},
   "outputs": [],
   "source": [
    "train = train.merge(songs_extra, on = 'song_id', how = 'left')"
   ]
  },
  {
   "cell_type": "code",
   "execution_count": null,
   "metadata": {},
   "outputs": [],
   "source": [
    "train['genre_ids'] = train['genre_ids'].str.split('|').str[0]"
   ]
  },
  {
   "cell_type": "code",
   "execution_count": null,
   "metadata": {},
   "outputs": [],
   "source": [
    "for col in train.columns:\n",
    "    if train[col].dtype == object:\n",
    "        train[col] = train[col].astype('category')"
   ]
  },
  {
   "cell_type": "code",
   "execution_count": null,
   "metadata": {},
   "outputs": [],
   "source": [
    "train['song_year'] = train['song_year'].astype('category')"
   ]
  },
  {
   "cell_type": "code",
   "execution_count": null,
   "metadata": {},
   "outputs": [],
   "source": [
    "from scipy.stats import randint as sp_randint\n",
    "from scipy.stats import uniform as sp_uniform\n",
    "param_test = {\n",
    "    'num_leaves': sp_randint(6, 50), \n",
    "    'min_child_samples': sp_randint(100, 500), \n",
    "    'min_child_weight': [1e-5, 1e-3, 1e-2, 1e-1, 1, 1e1, 1e2, 1e3, 1e4],\n",
    "    'subsample': sp_uniform(loc=0.2, scale=0.8), \n",
    "    'colsample_bytree': sp_uniform(loc=0.4, scale=0.6),\n",
    "    'reg_alpha': [0, 1e-1, 1, 2, 5, 7, 10, 50, 100],\n",
    "    'reg_lambda': [0, 1e-1, 1, 5, 10, 20, 50, 100],\n",
    "}"
   ]
  },
  {
   "cell_type": "code",
   "execution_count": null,
   "metadata": {},
   "outputs": [],
   "source": [
    "X_train, X_test, y_train, y_test = train_test_split(\n",
    "    train.drop(['target'],axis=1), \n",
    "    train['target'], \n",
    "    test_size=0.20, \n",
    "    random_state=42,\n",
    ")"
   ]
  },
  {
   "cell_type": "markdown",
   "metadata": {},
   "source": [
    "Тюним модель используя random search"
   ]
  },
  {
   "cell_type": "code",
   "execution_count": null,
   "metadata": {},
   "outputs": [],
   "source": [
    "import lightgbm as lgb\n",
    "fit_params = {\n",
    "    \"early_stopping_rounds\":10, \n",
    "    \"eval_metric\" : 'auc', \n",
    "    \"eval_set\" : [(X_test, y_test)],\n",
    "    'eval_names': ['valid'],\n",
    "    'verbose': 100,\n",
    "    'categorical_feature': 'auto',\n",
    "}\n",
    "\n",
    "from sklearn.model_selection import RandomizedSearchCV, GridSearchCV\n",
    "\n",
    "clf = lgb.LGBMClassifier(max_depth=-1, random_state=42, silent=True, metric='None', n_jobs=-1, n_estimators=500)\n",
    "gs = RandomizedSearchCV(\n",
    "    estimator=clf, \n",
    "    param_distributions=param_test,\n",
    "    n_iter=10,\n",
    "    scoring='roc_auc',\n",
    "    cv=5,\n",
    "    refit=True,\n",
    "    random_state=42,\n",
    "    verbose=True\n",
    ")"
   ]
  },
  {
   "cell_type": "code",
   "execution_count": null,
   "metadata": {},
   "outputs": [],
   "source": [
    "gs.fit(X_train, y_train, **fit_params)\n",
    "print('Best score reached: {} with params: {} '.format(gs.best_score_, gs.best_params_))"
   ]
  },
  {
   "cell_type": "markdown",
   "metadata": {},
   "source": [
    " Топ5 полученных результатов:\n",
    " \n",
    " Valid+-Std   :   Parameters\n",
    " \n",
    "0.768+-0.000  :  \n",
    "{'colsample_bytree': 0.6640914962437607, 'min_child_samples': 363, 'min_child_weight': 0.01, 'num_leaves': 19, 'reg_alpha': 0, 'reg_lambda': 5, 'subsample': 0.3457888702304499}\n",
    "\n",
    "0.770+-0.001  :  \n",
    "{'colsample_bytree': 0.9693313223519999, 'min_child_samples': 415, 'min_child_weight': 0.001, 'num_leaves': 14, 'reg_alpha': 5, 'reg_lambda': 0.1, 'subsample': 0.7473864212097256}\n",
    "\n",
    "0.771+-0.000  :  \n",
    "{'colsample_bytree': 0.9053708647569991, 'min_child_samples': 143, 'min_child_weight': 0.001, 'num_leaves': 15, 'reg_alpha': 2, 'reg_lambda': 20, 'subsample': 0.7818175966851368}\n",
    "\n",
    "0.776+-0.001  :  \n",
    "{'colsample_bytree': 0.4348501673009197, 'min_child_samples': 187, 'min_child_weight': 1, 'num_leaves': 41, 'reg_alpha': 50, 'reg_lambda': 100, 'subsample': 0.7207107783590823}\n",
    "\n",
    "0.798+-0.000  :  \n",
    "{'colsample_bytree': 0.8532168461905915, 'min_child_samples': 489, 'min_child_weight': 10.0, 'num_leaves': 47, 'reg_alpha': 2, 'reg_lambda': 20, 'subsample': 0.22505063396444688}"
   ]
  },
  {
   "cell_type": "code",
   "execution_count": null,
   "metadata": {},
   "outputs": [],
   "source": [
    "best_params = {\n",
    "    'colsample_bytree': 0.8532168461905915, \n",
    "    'min_child_samples': 489, \n",
    "    'min_child_weight': 10.0, \n",
    "    'num_leaves': 47, \n",
    "    'reg_alpha': 2, \n",
    "    'reg_lambda': 20, \n",
    "    'subsample': 0.22505063396444688,\n",
    "}"
   ]
  },
  {
   "cell_type": "code",
   "execution_count": null,
   "metadata": {},
   "outputs": [],
   "source": []
  },
  {
   "cell_type": "markdown",
   "metadata": {},
   "source": [
    "Посчитаем среднее значение ROC AUC по каждому юзеру. Юзеров, которым нравится любая музыка, пропустим"
   ]
  },
  {
   "cell_type": "code",
   "execution_count": null,
   "metadata": {},
   "outputs": [],
   "source": [
    "import lightgbm as lgb\n",
    "from tqdm.auto import tqdm\n",
    "\n",
    "from sklearn import model_selection\n",
    "from sklearn import metrics\n",
    "\n",
    "cv = model_selection.KFold(n_splits=5)\n",
    "\n",
    "\n",
    "for train_ind, valid_ind in tqdm(cv.split(train), total_len=5): \n",
    "    X_train = train.drop(['target'],axis=1).loc[train_ind,:]\n",
    "    y_train = train.loc[train_ind, 'target']\n",
    "    \n",
    "    X_valid = train.drop(['target'],axis=1).loc[valid_ind,:]\n",
    "    y_valid = train.loc[valid_ind, 'target']\n",
    "    \n",
    "    clf = lgb.LGBMClassifier(\n",
    "        max_depth=-1, \n",
    "        random_state=42, \n",
    "        silent=True, \n",
    "        metric='None', \n",
    "        n_jobs=-1, \n",
    "        n_estimators=500,\n",
    "        **best_params,\n",
    "    )\n",
    "    clf.fit(X_train, y_train)\n",
    "    pred = clf.predict_proba(X_valid)\n",
    "    \n",
    "    users = set(X_valid.msno)\n",
    "    scores = []\n",
    "    for i, user in enumerate(tqdm(users)):\n",
    "        inds = (X_valid.msno == user)\n",
    "        if len(np.unique(y_valid[inds])) < 2:\n",
    "            continue\n",
    "        scores.append(metrics.roc_auc_score(y_valid[inds], pred[inds, 1]))\n",
    "    scores = np.array(scores)\n",
    "    print(scores.mean(), np.median(scores))\n",
    "    \n",
    "#     lgbm_model = lgb.train(params, train_data, valid_sets=[val_data], )"
   ]
  },
  {
   "cell_type": "markdown",
   "metadata": {},
   "source": [
    " Ждать результатов достаточно долго, я запускал их на сервере, поэтому добавлю здесь только вывод, который получился:\n",
    " \n",
    " ROC AUC per user: 0.681254313312988\n",
    " \n",
    " \n",
    " Общее значение ROC AUC на кросс-валидации по 5 блокам: 0.798"
   ]
  },
  {
   "cell_type": "markdown",
   "metadata": {},
   "source": [
    "#  Задание 2"
   ]
  },
  {
   "cell_type": "code",
   "execution_count": 40,
   "metadata": {},
   "outputs": [],
   "source": [
    "from gensim.models import Word2Vec \n",
    "import random"
   ]
  },
  {
   "cell_type": "code",
   "execution_count": 52,
   "metadata": {},
   "outputs": [],
   "source": [
    "pos_train = train[train.target == 1]\n",
    "users_train = pos_train[\"msno\"].unique().tolist()"
   ]
  },
  {
   "cell_type": "code",
   "execution_count": 53,
   "metadata": {},
   "outputs": [
    {
     "data": {
      "text/plain": [
       "(3714656, 16)"
      ]
     },
     "execution_count": 53,
     "metadata": {},
     "output_type": "execute_result"
    }
   ],
   "source": [
    "pos_train.shape"
   ]
  },
  {
   "cell_type": "markdown",
   "metadata": {},
   "source": [
    "Оставим только строчки с позитивной реакцией. После этого сгенерируем предложения песен для юзера, и обучим на этом word2vec "
   ]
  },
  {
   "cell_type": "code",
   "execution_count": 56,
   "metadata": {},
   "outputs": [
    {
     "data": {
      "application/vnd.jupyter.widget-view+json": {
       "model_id": "54dca1908978462f8e5a72edc74e6e99",
       "version_major": 2,
       "version_minor": 0
      },
      "text/plain": [
       "  0%|          | 0/24401 [00:00<?, ?it/s]"
      ]
     },
     "metadata": {},
     "output_type": "display_data"
    }
   ],
   "source": [
    "# list to capture purchase history of the customers\n",
    "purchases_train = []\n",
    "\n",
    "# populate the list with the product codes\n",
    "for i in tqdm(users_train):\n",
    "    temp = pos_train[pos_train[\"msno\"] == i][\"song_id\"].tolist()\n",
    "    purchases_train.append(temp)"
   ]
  },
  {
   "cell_type": "code",
   "execution_count": 57,
   "metadata": {},
   "outputs": [],
   "source": [
    "model = Word2Vec(window = 10, sg = 1, hs = 0,\n",
    "                 negative = 10,\n",
    "                 alpha=0.03, min_alpha=0.0007,\n",
    "                 seed = 14)"
   ]
  },
  {
   "cell_type": "code",
   "execution_count": 58,
   "metadata": {},
   "outputs": [],
   "source": [
    "model.build_vocab(purchases_train, progress_per=100)"
   ]
  },
  {
   "cell_type": "code",
   "execution_count": 59,
   "metadata": {},
   "outputs": [
    {
     "data": {
      "text/plain": [
       "(30845174, 33398500)"
      ]
     },
     "execution_count": 59,
     "metadata": {},
     "output_type": "execute_result"
    }
   ],
   "source": [
    "model.train(purchases_train, total_examples = model.corpus_count, \n",
    "            epochs=10, report_delay=1)"
   ]
  },
  {
   "cell_type": "code",
   "execution_count": 73,
   "metadata": {},
   "outputs": [
    {
     "data": {
      "text/plain": [
       "(52022, 100)"
      ]
     },
     "execution_count": 73,
     "metadata": {},
     "output_type": "execute_result"
    }
   ],
   "source": [
    "X = model.wv.vectors\n",
    "X.shape"
   ]
  },
  {
   "cell_type": "code",
   "execution_count": 74,
   "metadata": {},
   "outputs": [
    {
     "data": {
      "text/plain": [
       "<matplotlib.collections.PathCollection at 0x7f532f859ed0>"
      ]
     },
     "execution_count": 74,
     "metadata": {},
     "output_type": "execute_result"
    },
    {
     "data": {
      "image/png": "[encoded data removed]",
      "text/plain": [
       "<Figure size 720x648 with 1 Axes>"
      ]
     },
     "metadata": {
      "needs_background": "light"
     },
     "output_type": "display_data"
    }
   ],
   "source": [
    "import umap\n",
    "\n",
    "cluster_embedding = umap.UMAP(n_neighbors=30, min_dist=0.0,\n",
    "                              n_components=2, random_state=42).fit_transform(X)\n",
    "\n",
    "plt.figure(figsize=(10,9))\n",
    "plt.scatter(cluster_embedding[:, 0], cluster_embedding[:, 1], s=3, cmap='Spectral')"
   ]
  },
  {
   "cell_type": "markdown",
   "metadata": {},
   "source": [
    " На графике явно видны несколько групп кластеров песен"
   ]
  },
  {
   "cell_type": "code",
   "execution_count": 114,
   "metadata": {},
   "outputs": [
    {
     "name": "stderr",
     "output_type": "stream",
     "text": [
      "/opt/conda/lib/python3.7/site-packages/ipykernel_launcher.py:2: SettingWithCopyWarning: \n",
      "A value is trying to be set on a copy of a slice from a DataFrame\n",
      "\n",
      "See the caveats in the documentation: https://pandas.pydata.org/pandas-docs/stable/user_guide/indexing.html#returning-a-view-versus-a-copy\n",
      "  \n"
     ]
    }
   ],
   "source": [
    "song_names = pos_train[[\"song_id\", \"artist_name\"]]\n",
    "song_names.drop_duplicates(inplace=True, subset='song_id', keep=\"last\")"
   ]
  },
  {
   "cell_type": "code",
   "execution_count": 118,
   "metadata": {},
   "outputs": [],
   "source": [
    "song_names = user_artists.groupby('song_id')['artist_name'].apply(list).to_dict()"
   ]
  },
  {
   "cell_type": "markdown",
   "metadata": {},
   "source": [
    "Так как у песен нет названия, то будем определять осмысленность similar используя artist_name для песни"
   ]
  },
  {
   "cell_type": "code",
   "execution_count": 133,
   "metadata": {},
   "outputs": [],
   "source": [
    "def similar_products(v, n = 6):\n",
    "    ms = model.wv.most_similar(v, topn= n+1)[1:]\n",
    "    new_ms = []\n",
    "    for j in ms:\n",
    "        pair = (song_names[j[0]][0], j[1])\n",
    "        new_ms.append(pair)\n",
    "    return new_ms   "
   ]
  },
  {
   "cell_type": "markdown",
   "metadata": {},
   "source": [
    "Посмотрим на выборку песен, попробуем для известных исполнителей найти их симилары"
   ]
  },
  {
   "cell_type": "code",
   "execution_count": 155,
   "metadata": {},
   "outputs": [
    {
     "name": "stdout",
     "output_type": "stream",
     "text": [
      "971\n",
      "['Andrea Bocelli']\n",
      "+8TdbJ5Cv3vBihl4stlxoBv5Yse1t9vwdtgYOcxx8yE=\n",
      "669\n",
      "[]\n",
      "+5DG/iKG7ess9E5E9ea+hEHP/BUdEoUGYO1cGAbfAj0=\n",
      "992\n",
      "['ONE OK ROCK']\n",
      "+8jyGtpfbvV4T8sqlFP4XCL/JeuPkhLWaGbaUFEdds8=\n",
      "937\n",
      "[]\n",
      "+871ymZ9Y/07ZfRvS/tSyR+bMrvKXkHTfpmjQnNreY8=\n",
      "743\n",
      "['李建復']\n",
      "+5k2egs9bCz44gUW1ZQkF9xlPllzfWguFN2nGnZVWSA=\n",
      "866\n",
      "[]\n",
      "+78a/6tnvOWrfJ645XoCLc4V/7QAPXtTBhATSl5ZmxM=\n",
      "994\n",
      "['陳翔']\n",
      "+8kn+4j2ZiJ3VwCxUgu+/+v9psuoEhy2GZAtdwxeOBc=\n",
      "944\n",
      "['Sandaime J Soul Brothers from EXILE TRIBE (三代目 J Soul Brothers from EXILE TRIBE)']\n",
      "+89xV4Ngw/wcDfs+MT8gLD4Z7+0pL/mq1TZy2b5LAGw=\n",
      "643\n",
      "[\"Children's Favorite's\"]\n",
      "+507l/Fl48TdV9JjmzwAcF3D6zms0FBURKYv++LFEWE=\n",
      "160\n",
      "['David Arnold']\n",
      "+/eQ+RnO+weCVRUqD4FemhiSzByya7OwKwq1mCrn5OM=\n"
     ]
    }
   ],
   "source": [
    "for ind in random.sample(list(range(1000)), 10):\n",
    "    print(ind)\n",
    "    print(list(song_names.values())[ind])\n",
    "    print(list(song_names.keys())[ind])"
   ]
  },
  {
   "cell_type": "markdown",
   "metadata": {},
   "source": [
    "Из известных мне здесь только 'Andrea Bocelli', поэтому найдем симилары к его песне"
   ]
  },
  {
   "cell_type": "code",
   "execution_count": 157,
   "metadata": {},
   "outputs": [
    {
     "data": {
      "text/plain": [
       "28805"
      ]
     },
     "execution_count": 157,
     "metadata": {},
     "output_type": "execute_result"
    }
   ],
   "source": [
    "model.wv.key_to_index['+8TdbJ5Cv3vBihl4stlxoBv5Yse1t9vwdtgYOcxx8yE=']"
   ]
  },
  {
   "cell_type": "code",
   "execution_count": 159,
   "metadata": {},
   "outputs": [
    {
     "data": {
      "text/plain": [
       "[('Andrea Bocelli', 0.8863276839256287),\n",
       " ('Andrea Bocelli', 0.8684341311454773),\n",
       " ('Andrea Bocelli', 0.8167124390602112),\n",
       " ('Andrea Bocelli', 0.8034621477127075),\n",
       " ('Andrea Bocelli', 0.7990178465843201),\n",
       " ('Andrea Bocelli', 0.7962299585342407),\n",
       " ('Andrea Bocelli', 0.7656412124633789),\n",
       " ('Andrea Bocelli', 0.7621732950210571),\n",
       " ('Dreaming', 0.7407352924346924),\n",
       " ('Andrea Bocelli', 0.7406356334686279),\n",
       " ('tico moon', 0.7349551916122437),\n",
       " ('何真真', 0.7297756671905518),\n",
       " ('滾石金韻民歌百大精選', 0.7293576002120972),\n",
       " ('Dreaming', 0.7211689949035645),\n",
       " ('傾聽心靈音樂', 0.7205897569656372),\n",
       " ('BeatleJazz', 0.7188231945037842),\n",
       " ('Christmas Crooners Collection', 0.7169662714004517),\n",
       " ('內田奈織', 0.7130300998687744),\n",
       " ('Lisa Ono (小野リサ)', 0.7116321325302124),\n",
       " ('純音樂', 0.71001797914505)]"
      ]
     },
     "execution_count": 159,
     "metadata": {},
     "output_type": "execute_result"
    }
   ],
   "source": [
    "similar_products([X[28805], ], 20)"
   ]
  },
  {
   "cell_type": "markdown",
   "metadata": {},
   "source": [
    "Здесь понятным образом оказались другие песни Andrea Bocelli. Dreaming - это музыка для мечтания, что подходит. Tico Moon это какой-то японский ансамбль с арфой и гитарой. В принципе, похоже"
   ]
  },
  {
   "cell_type": "markdown",
   "metadata": {},
   "source": [
    "Напишем функцию, которая будет определять понравится ли пользователю песня. Для этого посчитаем некоторую функцию для расстояний от выбранной песни до песен, которые нравятся юзеру и отдельно для песен, которые не нравится.\n",
    "\n",
    "Казалось бы, что можно посчитать среднее расстояние (тогда метрика получается 0.65), но оказывается лучше считать максимальную похожесть (метрика 0.96). \n",
    "\n",
    "На самом деле это логично, потому что средняя похожесть полайканных песню на какую-то довольно странная величина. А вот если очень похожая песня с лайком, то, вероятно, и для новой песни будет лайк"
   ]
  },
  {
   "cell_type": "code",
   "execution_count": 238,
   "metadata": {},
   "outputs": [],
   "source": [
    "def user_like(user, ask_song):\n",
    "    if ask_song not in model.wv.key_to_index.keys():\n",
    "        return 0\n",
    "    pos_songs = train[(train.msno == user) & (train.target == 1)]['song_id']\n",
    "    neg_songs = train[(train.msno == user) & (train.target == 0)]['song_id']\n",
    "    \n",
    "    ask_id = model.wv.key_to_index[ask_song]\n",
    "    \n",
    "    def find_mean_dist(songs):\n",
    "        if len(songs) == 0:\n",
    "            return 1\n",
    "        dists = []\n",
    "        for song in songs:\n",
    "            try:\n",
    "                cur_id = model.wv.key_to_index[song]\n",
    "                dist = X[ask_id].dot(X[cur_id])\n",
    "                dists.append(dist)\n",
    "            except KeyError:\n",
    "                continue\n",
    "        return np.max(dists)\n",
    "    \n",
    "    pos_dist = find_mean_dist(pos_songs)\n",
    "    neg_dist = find_mean_dist(neg_songs)\n",
    "    \n",
    "    return 1 if pos_dist > neg_dist else 0\n",
    "            "
   ]
  },
  {
   "cell_type": "code",
   "execution_count": 242,
   "metadata": {},
   "outputs": [],
   "source": [
    "small_train = train.sample(1000)"
   ]
  },
  {
   "cell_type": "code",
   "execution_count": 243,
   "metadata": {},
   "outputs": [
    {
     "data": {
      "application/vnd.jupyter.widget-view+json": {
       "model_id": "f2c4dc0d5af64b1787888b32e8269598",
       "version_major": 2,
       "version_minor": 0
      },
      "text/plain": [
       "  0%|          | 0/1000 [00:00<?, ?it/s]"
      ]
     },
     "metadata": {},
     "output_type": "display_data"
    }
   ],
   "source": [
    "preds = []\n",
    "for _, item in tqdm(small_train.iterrows(), total=len(small_train)):\n",
    "    pred = user_like(item.msno, item.song_id)\n",
    "    preds.append(pred)\n",
    "preds = np.array(preds)"
   ]
  },
  {
   "cell_type": "code",
   "execution_count": 244,
   "metadata": {},
   "outputs": [
    {
     "data": {
      "text/plain": [
       "0.9559586321721312"
      ]
     },
     "execution_count": 244,
     "metadata": {},
     "output_type": "execute_result"
    }
   ],
   "source": [
    "metrics.roc_auc_score(small_train.target, preds)"
   ]
  },
  {
   "cell_type": "code",
   "execution_count": null,
   "metadata": {},
   "outputs": [],
   "source": []
  }
 ],
 "metadata": {
  "kernelspec": {
   "display_name": "Python 3",
   "language": "python",
   "name": "python3"
  },
  "language_info": {
   "codemirror_mode": {
    "name": "ipython",
    "version": 3
   },
   "file_extension": ".py",
   "mimetype": "text/x-python",
   "name": "python",
   "nbconvert_exporter": "python",
   "pygments_lexer": "ipython3",
   "version": "3.8.5"
  }
 },
 "nbformat": 4,
 "nbformat_minor": 4
}
